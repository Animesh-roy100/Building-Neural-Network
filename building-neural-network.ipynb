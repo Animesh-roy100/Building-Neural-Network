{
 "cells": [
  {
   "cell_type": "code",
   "execution_count": 1,
   "id": "f26a5021",
   "metadata": {
    "_cell_guid": "b1076dfc-b9ad-4769-8c92-a6c4dae69d19",
    "_uuid": "8f2839f25d086af736a60e9eeb907d3b93b6e0e5",
    "execution": {
     "iopub.execute_input": "2022-10-03T12:44:46.929097Z",
     "iopub.status.busy": "2022-10-03T12:44:46.928657Z",
     "iopub.status.idle": "2022-10-03T12:44:46.937923Z",
     "shell.execute_reply": "2022-10-03T12:44:46.937039Z"
    },
    "papermill": {
     "duration": 0.019164,
     "end_time": "2022-10-03T12:44:46.940186",
     "exception": false,
     "start_time": "2022-10-03T12:44:46.921022",
     "status": "completed"
    },
    "tags": []
   },
   "outputs": [],
   "source": [
    "import numpy as np\n",
    "import pandas as pd\n",
    "from matplotlib import pyplot as plt"
   ]
  },
  {
   "cell_type": "code",
   "execution_count": 2,
   "id": "926806f1",
   "metadata": {
    "execution": {
     "iopub.execute_input": "2022-10-03T12:44:46.951164Z",
     "iopub.status.busy": "2022-10-03T12:44:46.950606Z",
     "iopub.status.idle": "2022-10-03T12:44:50.843172Z",
     "shell.execute_reply": "2022-10-03T12:44:50.842039Z"
    },
    "papermill": {
     "duration": 3.901122,
     "end_time": "2022-10-03T12:44:50.846000",
     "exception": false,
     "start_time": "2022-10-03T12:44:46.944878",
     "status": "completed"
    },
    "tags": []
   },
   "outputs": [],
   "source": [
    "data = pd.read_csv('/kaggle/input/digit-recognizer/train.csv')"
   ]
  },
  {
   "cell_type": "code",
   "execution_count": 3,
   "id": "1baf09b7",
   "metadata": {
    "execution": {
     "iopub.execute_input": "2022-10-03T12:44:50.857050Z",
     "iopub.status.busy": "2022-10-03T12:44:50.856633Z",
     "iopub.status.idle": "2022-10-03T12:44:50.886272Z",
     "shell.execute_reply": "2022-10-03T12:44:50.884852Z"
    },
    "papermill": {
     "duration": 0.038084,
     "end_time": "2022-10-03T12:44:50.888831",
     "exception": false,
     "start_time": "2022-10-03T12:44:50.850747",
     "status": "completed"
    },
    "tags": []
   },
   "outputs": [
    {
     "data": {
      "text/html": [
       "<div>\n",
       "<style scoped>\n",
       "    .dataframe tbody tr th:only-of-type {\n",
       "        vertical-align: middle;\n",
       "    }\n",
       "\n",
       "    .dataframe tbody tr th {\n",
       "        vertical-align: top;\n",
       "    }\n",
       "\n",
       "    .dataframe thead th {\n",
       "        text-align: right;\n",
       "    }\n",
       "</style>\n",
       "<table border=\"1\" class=\"dataframe\">\n",
       "  <thead>\n",
       "    <tr style=\"text-align: right;\">\n",
       "      <th></th>\n",
       "      <th>label</th>\n",
       "      <th>pixel0</th>\n",
       "      <th>pixel1</th>\n",
       "      <th>pixel2</th>\n",
       "      <th>pixel3</th>\n",
       "      <th>pixel4</th>\n",
       "      <th>pixel5</th>\n",
       "      <th>pixel6</th>\n",
       "      <th>pixel7</th>\n",
       "      <th>pixel8</th>\n",
       "      <th>...</th>\n",
       "      <th>pixel774</th>\n",
       "      <th>pixel775</th>\n",
       "      <th>pixel776</th>\n",
       "      <th>pixel777</th>\n",
       "      <th>pixel778</th>\n",
       "      <th>pixel779</th>\n",
       "      <th>pixel780</th>\n",
       "      <th>pixel781</th>\n",
       "      <th>pixel782</th>\n",
       "      <th>pixel783</th>\n",
       "    </tr>\n",
       "  </thead>\n",
       "  <tbody>\n",
       "    <tr>\n",
       "      <th>0</th>\n",
       "      <td>1</td>\n",
       "      <td>0</td>\n",
       "      <td>0</td>\n",
       "      <td>0</td>\n",
       "      <td>0</td>\n",
       "      <td>0</td>\n",
       "      <td>0</td>\n",
       "      <td>0</td>\n",
       "      <td>0</td>\n",
       "      <td>0</td>\n",
       "      <td>...</td>\n",
       "      <td>0</td>\n",
       "      <td>0</td>\n",
       "      <td>0</td>\n",
       "      <td>0</td>\n",
       "      <td>0</td>\n",
       "      <td>0</td>\n",
       "      <td>0</td>\n",
       "      <td>0</td>\n",
       "      <td>0</td>\n",
       "      <td>0</td>\n",
       "    </tr>\n",
       "    <tr>\n",
       "      <th>1</th>\n",
       "      <td>0</td>\n",
       "      <td>0</td>\n",
       "      <td>0</td>\n",
       "      <td>0</td>\n",
       "      <td>0</td>\n",
       "      <td>0</td>\n",
       "      <td>0</td>\n",
       "      <td>0</td>\n",
       "      <td>0</td>\n",
       "      <td>0</td>\n",
       "      <td>...</td>\n",
       "      <td>0</td>\n",
       "      <td>0</td>\n",
       "      <td>0</td>\n",
       "      <td>0</td>\n",
       "      <td>0</td>\n",
       "      <td>0</td>\n",
       "      <td>0</td>\n",
       "      <td>0</td>\n",
       "      <td>0</td>\n",
       "      <td>0</td>\n",
       "    </tr>\n",
       "    <tr>\n",
       "      <th>2</th>\n",
       "      <td>1</td>\n",
       "      <td>0</td>\n",
       "      <td>0</td>\n",
       "      <td>0</td>\n",
       "      <td>0</td>\n",
       "      <td>0</td>\n",
       "      <td>0</td>\n",
       "      <td>0</td>\n",
       "      <td>0</td>\n",
       "      <td>0</td>\n",
       "      <td>...</td>\n",
       "      <td>0</td>\n",
       "      <td>0</td>\n",
       "      <td>0</td>\n",
       "      <td>0</td>\n",
       "      <td>0</td>\n",
       "      <td>0</td>\n",
       "      <td>0</td>\n",
       "      <td>0</td>\n",
       "      <td>0</td>\n",
       "      <td>0</td>\n",
       "    </tr>\n",
       "    <tr>\n",
       "      <th>3</th>\n",
       "      <td>4</td>\n",
       "      <td>0</td>\n",
       "      <td>0</td>\n",
       "      <td>0</td>\n",
       "      <td>0</td>\n",
       "      <td>0</td>\n",
       "      <td>0</td>\n",
       "      <td>0</td>\n",
       "      <td>0</td>\n",
       "      <td>0</td>\n",
       "      <td>...</td>\n",
       "      <td>0</td>\n",
       "      <td>0</td>\n",
       "      <td>0</td>\n",
       "      <td>0</td>\n",
       "      <td>0</td>\n",
       "      <td>0</td>\n",
       "      <td>0</td>\n",
       "      <td>0</td>\n",
       "      <td>0</td>\n",
       "      <td>0</td>\n",
       "    </tr>\n",
       "    <tr>\n",
       "      <th>4</th>\n",
       "      <td>0</td>\n",
       "      <td>0</td>\n",
       "      <td>0</td>\n",
       "      <td>0</td>\n",
       "      <td>0</td>\n",
       "      <td>0</td>\n",
       "      <td>0</td>\n",
       "      <td>0</td>\n",
       "      <td>0</td>\n",
       "      <td>0</td>\n",
       "      <td>...</td>\n",
       "      <td>0</td>\n",
       "      <td>0</td>\n",
       "      <td>0</td>\n",
       "      <td>0</td>\n",
       "      <td>0</td>\n",
       "      <td>0</td>\n",
       "      <td>0</td>\n",
       "      <td>0</td>\n",
       "      <td>0</td>\n",
       "      <td>0</td>\n",
       "    </tr>\n",
       "  </tbody>\n",
       "</table>\n",
       "<p>5 rows × 785 columns</p>\n",
       "</div>"
      ],
      "text/plain": [
       "   label  pixel0  pixel1  pixel2  pixel3  pixel4  pixel5  pixel6  pixel7  \\\n",
       "0      1       0       0       0       0       0       0       0       0   \n",
       "1      0       0       0       0       0       0       0       0       0   \n",
       "2      1       0       0       0       0       0       0       0       0   \n",
       "3      4       0       0       0       0       0       0       0       0   \n",
       "4      0       0       0       0       0       0       0       0       0   \n",
       "\n",
       "   pixel8  ...  pixel774  pixel775  pixel776  pixel777  pixel778  pixel779  \\\n",
       "0       0  ...         0         0         0         0         0         0   \n",
       "1       0  ...         0         0         0         0         0         0   \n",
       "2       0  ...         0         0         0         0         0         0   \n",
       "3       0  ...         0         0         0         0         0         0   \n",
       "4       0  ...         0         0         0         0         0         0   \n",
       "\n",
       "   pixel780  pixel781  pixel782  pixel783  \n",
       "0         0         0         0         0  \n",
       "1         0         0         0         0  \n",
       "2         0         0         0         0  \n",
       "3         0         0         0         0  \n",
       "4         0         0         0         0  \n",
       "\n",
       "[5 rows x 785 columns]"
      ]
     },
     "execution_count": 3,
     "metadata": {},
     "output_type": "execute_result"
    }
   ],
   "source": [
    "data.head()"
   ]
  },
  {
   "cell_type": "code",
   "execution_count": 4,
   "id": "d374d82a",
   "metadata": {
    "execution": {
     "iopub.execute_input": "2022-10-03T12:44:50.900382Z",
     "iopub.status.busy": "2022-10-03T12:44:50.899986Z",
     "iopub.status.idle": "2022-10-03T12:44:50.918339Z",
     "shell.execute_reply": "2022-10-03T12:44:50.917040Z"
    },
    "papermill": {
     "duration": 0.026824,
     "end_time": "2022-10-03T12:44:50.920717",
     "exception": false,
     "start_time": "2022-10-03T12:44:50.893893",
     "status": "completed"
    },
    "tags": []
   },
   "outputs": [
    {
     "data": {
      "text/html": [
       "<div>\n",
       "<style scoped>\n",
       "    .dataframe tbody tr th:only-of-type {\n",
       "        vertical-align: middle;\n",
       "    }\n",
       "\n",
       "    .dataframe tbody tr th {\n",
       "        vertical-align: top;\n",
       "    }\n",
       "\n",
       "    .dataframe thead th {\n",
       "        text-align: right;\n",
       "    }\n",
       "</style>\n",
       "<table border=\"1\" class=\"dataframe\">\n",
       "  <thead>\n",
       "    <tr style=\"text-align: right;\">\n",
       "      <th></th>\n",
       "      <th>label</th>\n",
       "      <th>pixel0</th>\n",
       "      <th>pixel1</th>\n",
       "      <th>pixel2</th>\n",
       "      <th>pixel3</th>\n",
       "      <th>pixel4</th>\n",
       "      <th>pixel5</th>\n",
       "      <th>pixel6</th>\n",
       "      <th>pixel7</th>\n",
       "      <th>pixel8</th>\n",
       "      <th>...</th>\n",
       "      <th>pixel774</th>\n",
       "      <th>pixel775</th>\n",
       "      <th>pixel776</th>\n",
       "      <th>pixel777</th>\n",
       "      <th>pixel778</th>\n",
       "      <th>pixel779</th>\n",
       "      <th>pixel780</th>\n",
       "      <th>pixel781</th>\n",
       "      <th>pixel782</th>\n",
       "      <th>pixel783</th>\n",
       "    </tr>\n",
       "  </thead>\n",
       "  <tbody>\n",
       "    <tr>\n",
       "      <th>41995</th>\n",
       "      <td>0</td>\n",
       "      <td>0</td>\n",
       "      <td>0</td>\n",
       "      <td>0</td>\n",
       "      <td>0</td>\n",
       "      <td>0</td>\n",
       "      <td>0</td>\n",
       "      <td>0</td>\n",
       "      <td>0</td>\n",
       "      <td>0</td>\n",
       "      <td>...</td>\n",
       "      <td>0</td>\n",
       "      <td>0</td>\n",
       "      <td>0</td>\n",
       "      <td>0</td>\n",
       "      <td>0</td>\n",
       "      <td>0</td>\n",
       "      <td>0</td>\n",
       "      <td>0</td>\n",
       "      <td>0</td>\n",
       "      <td>0</td>\n",
       "    </tr>\n",
       "    <tr>\n",
       "      <th>41996</th>\n",
       "      <td>1</td>\n",
       "      <td>0</td>\n",
       "      <td>0</td>\n",
       "      <td>0</td>\n",
       "      <td>0</td>\n",
       "      <td>0</td>\n",
       "      <td>0</td>\n",
       "      <td>0</td>\n",
       "      <td>0</td>\n",
       "      <td>0</td>\n",
       "      <td>...</td>\n",
       "      <td>0</td>\n",
       "      <td>0</td>\n",
       "      <td>0</td>\n",
       "      <td>0</td>\n",
       "      <td>0</td>\n",
       "      <td>0</td>\n",
       "      <td>0</td>\n",
       "      <td>0</td>\n",
       "      <td>0</td>\n",
       "      <td>0</td>\n",
       "    </tr>\n",
       "    <tr>\n",
       "      <th>41997</th>\n",
       "      <td>7</td>\n",
       "      <td>0</td>\n",
       "      <td>0</td>\n",
       "      <td>0</td>\n",
       "      <td>0</td>\n",
       "      <td>0</td>\n",
       "      <td>0</td>\n",
       "      <td>0</td>\n",
       "      <td>0</td>\n",
       "      <td>0</td>\n",
       "      <td>...</td>\n",
       "      <td>0</td>\n",
       "      <td>0</td>\n",
       "      <td>0</td>\n",
       "      <td>0</td>\n",
       "      <td>0</td>\n",
       "      <td>0</td>\n",
       "      <td>0</td>\n",
       "      <td>0</td>\n",
       "      <td>0</td>\n",
       "      <td>0</td>\n",
       "    </tr>\n",
       "    <tr>\n",
       "      <th>41998</th>\n",
       "      <td>6</td>\n",
       "      <td>0</td>\n",
       "      <td>0</td>\n",
       "      <td>0</td>\n",
       "      <td>0</td>\n",
       "      <td>0</td>\n",
       "      <td>0</td>\n",
       "      <td>0</td>\n",
       "      <td>0</td>\n",
       "      <td>0</td>\n",
       "      <td>...</td>\n",
       "      <td>0</td>\n",
       "      <td>0</td>\n",
       "      <td>0</td>\n",
       "      <td>0</td>\n",
       "      <td>0</td>\n",
       "      <td>0</td>\n",
       "      <td>0</td>\n",
       "      <td>0</td>\n",
       "      <td>0</td>\n",
       "      <td>0</td>\n",
       "    </tr>\n",
       "    <tr>\n",
       "      <th>41999</th>\n",
       "      <td>9</td>\n",
       "      <td>0</td>\n",
       "      <td>0</td>\n",
       "      <td>0</td>\n",
       "      <td>0</td>\n",
       "      <td>0</td>\n",
       "      <td>0</td>\n",
       "      <td>0</td>\n",
       "      <td>0</td>\n",
       "      <td>0</td>\n",
       "      <td>...</td>\n",
       "      <td>0</td>\n",
       "      <td>0</td>\n",
       "      <td>0</td>\n",
       "      <td>0</td>\n",
       "      <td>0</td>\n",
       "      <td>0</td>\n",
       "      <td>0</td>\n",
       "      <td>0</td>\n",
       "      <td>0</td>\n",
       "      <td>0</td>\n",
       "    </tr>\n",
       "  </tbody>\n",
       "</table>\n",
       "<p>5 rows × 785 columns</p>\n",
       "</div>"
      ],
      "text/plain": [
       "       label  pixel0  pixel1  pixel2  pixel3  pixel4  pixel5  pixel6  pixel7  \\\n",
       "41995      0       0       0       0       0       0       0       0       0   \n",
       "41996      1       0       0       0       0       0       0       0       0   \n",
       "41997      7       0       0       0       0       0       0       0       0   \n",
       "41998      6       0       0       0       0       0       0       0       0   \n",
       "41999      9       0       0       0       0       0       0       0       0   \n",
       "\n",
       "       pixel8  ...  pixel774  pixel775  pixel776  pixel777  pixel778  \\\n",
       "41995       0  ...         0         0         0         0         0   \n",
       "41996       0  ...         0         0         0         0         0   \n",
       "41997       0  ...         0         0         0         0         0   \n",
       "41998       0  ...         0         0         0         0         0   \n",
       "41999       0  ...         0         0         0         0         0   \n",
       "\n",
       "       pixel779  pixel780  pixel781  pixel782  pixel783  \n",
       "41995         0         0         0         0         0  \n",
       "41996         0         0         0         0         0  \n",
       "41997         0         0         0         0         0  \n",
       "41998         0         0         0         0         0  \n",
       "41999         0         0         0         0         0  \n",
       "\n",
       "[5 rows x 785 columns]"
      ]
     },
     "execution_count": 4,
     "metadata": {},
     "output_type": "execute_result"
    }
   ],
   "source": [
    "data.tail()"
   ]
  },
  {
   "cell_type": "code",
   "execution_count": 5,
   "id": "499859dc",
   "metadata": {
    "execution": {
     "iopub.execute_input": "2022-10-03T12:44:50.933173Z",
     "iopub.status.busy": "2022-10-03T12:44:50.932780Z",
     "iopub.status.idle": "2022-10-03T12:44:51.717820Z",
     "shell.execute_reply": "2022-10-03T12:44:51.716708Z"
    },
    "papermill": {
     "duration": 0.794281,
     "end_time": "2022-10-03T12:44:51.720448",
     "exception": false,
     "start_time": "2022-10-03T12:44:50.926167",
     "status": "completed"
    },
    "tags": []
   },
   "outputs": [],
   "source": [
    "data = np.array(data)\n",
    "m, n = data.shape\n",
    "np.random.shuffle(data) # shuffle before splitting into dev and training sets\n",
    "\n",
    "data_dev = data[0:1000].T\n",
    "Y_dev = data_dev[0]\n",
    "X_dev = data_dev[1:n]\n",
    "X_dev = X_dev / 255.\n",
    "\n",
    "data_train = data[1000:m].T\n",
    "Y_train = data_train[0]\n",
    "X_train = data_train[1:n]\n",
    "X_train = X_train / 255.\n",
    "_,m_train = X_train.shape"
   ]
  },
  {
   "cell_type": "code",
   "execution_count": 6,
   "id": "e9cdb16b",
   "metadata": {
    "execution": {
     "iopub.execute_input": "2022-10-03T12:44:51.732576Z",
     "iopub.status.busy": "2022-10-03T12:44:51.732155Z",
     "iopub.status.idle": "2022-10-03T12:44:51.740248Z",
     "shell.execute_reply": "2022-10-03T12:44:51.739135Z"
    },
    "papermill": {
     "duration": 0.016862,
     "end_time": "2022-10-03T12:44:51.742591",
     "exception": false,
     "start_time": "2022-10-03T12:44:51.725729",
     "status": "completed"
    },
    "tags": []
   },
   "outputs": [
    {
     "data": {
      "text/plain": [
       "array([8, 9, 5, ..., 2, 7, 5])"
      ]
     },
     "execution_count": 6,
     "metadata": {},
     "output_type": "execute_result"
    }
   ],
   "source": [
    "Y_train"
   ]
  },
  {
   "cell_type": "code",
   "execution_count": 7,
   "id": "012d3618",
   "metadata": {
    "execution": {
     "iopub.execute_input": "2022-10-03T12:44:51.755109Z",
     "iopub.status.busy": "2022-10-03T12:44:51.754701Z",
     "iopub.status.idle": "2022-10-03T12:44:51.762430Z",
     "shell.execute_reply": "2022-10-03T12:44:51.761224Z"
    },
    "papermill": {
     "duration": 0.01718,
     "end_time": "2022-10-03T12:44:51.765212",
     "exception": false,
     "start_time": "2022-10-03T12:44:51.748032",
     "status": "completed"
    },
    "tags": []
   },
   "outputs": [
    {
     "data": {
      "text/plain": [
       "(41000,)"
      ]
     },
     "execution_count": 7,
     "metadata": {},
     "output_type": "execute_result"
    }
   ],
   "source": [
    "X_train[0].shape"
   ]
  },
  {
   "cell_type": "code",
   "execution_count": 8,
   "id": "3e397378",
   "metadata": {
    "execution": {
     "iopub.execute_input": "2022-10-03T12:44:51.778313Z",
     "iopub.status.busy": "2022-10-03T12:44:51.777927Z",
     "iopub.status.idle": "2022-10-03T12:44:51.785844Z",
     "shell.execute_reply": "2022-10-03T12:44:51.784589Z"
    },
    "papermill": {
     "duration": 0.017414,
     "end_time": "2022-10-03T12:44:51.788221",
     "exception": false,
     "start_time": "2022-10-03T12:44:51.770807",
     "status": "completed"
    },
    "tags": []
   },
   "outputs": [
    {
     "data": {
      "text/plain": [
       "array([[0., 0., 0., ..., 0., 0., 0.],\n",
       "       [0., 0., 0., ..., 0., 0., 0.],\n",
       "       [0., 0., 0., ..., 0., 0., 0.],\n",
       "       ...,\n",
       "       [0., 0., 0., ..., 0., 0., 0.],\n",
       "       [0., 0., 0., ..., 0., 0., 0.],\n",
       "       [0., 0., 0., ..., 0., 0., 0.]])"
      ]
     },
     "execution_count": 8,
     "metadata": {},
     "output_type": "execute_result"
    }
   ],
   "source": [
    "X_train"
   ]
  },
  {
   "cell_type": "code",
   "execution_count": 9,
   "id": "35d0c93a",
   "metadata": {
    "execution": {
     "iopub.execute_input": "2022-10-03T12:44:51.801584Z",
     "iopub.status.busy": "2022-10-03T12:44:51.801162Z",
     "iopub.status.idle": "2022-10-03T12:44:51.807508Z",
     "shell.execute_reply": "2022-10-03T12:44:51.806649Z"
    },
    "papermill": {
     "duration": 0.015416,
     "end_time": "2022-10-03T12:44:51.809640",
     "exception": false,
     "start_time": "2022-10-03T12:44:51.794224",
     "status": "completed"
    },
    "tags": []
   },
   "outputs": [
    {
     "data": {
      "text/plain": [
       "(784,)"
      ]
     },
     "execution_count": 9,
     "metadata": {},
     "output_type": "execute_result"
    }
   ],
   "source": [
    "X_train[:, 0].shape"
   ]
  },
  {
   "cell_type": "markdown",
   "id": "860b9a8c",
   "metadata": {
    "papermill": {
     "duration": 0.005413,
     "end_time": "2022-10-03T12:44:51.820733",
     "exception": false,
     "start_time": "2022-10-03T12:44:51.815320",
     "status": "completed"
    },
    "tags": []
   },
   "source": [
    "# Build Neural Network"
   ]
  },
  {
   "cell_type": "code",
   "execution_count": 10,
   "id": "9e24bc82",
   "metadata": {
    "execution": {
     "iopub.execute_input": "2022-10-03T12:44:51.834218Z",
     "iopub.status.busy": "2022-10-03T12:44:51.833565Z",
     "iopub.status.idle": "2022-10-03T12:44:51.846560Z",
     "shell.execute_reply": "2022-10-03T12:44:51.845393Z"
    },
    "papermill": {
     "duration": 0.022874,
     "end_time": "2022-10-03T12:44:51.849285",
     "exception": false,
     "start_time": "2022-10-03T12:44:51.826411",
     "status": "completed"
    },
    "tags": []
   },
   "outputs": [],
   "source": [
    "#Create parameters\n",
    "def init_params():\n",
    "    W1 = np.random.rand(10, 784) - 0.5\n",
    "    b1 = np.random.rand(10, 1) - 0.5\n",
    "    W2 = np.random.rand(10, 10) - 0.5\n",
    "    b2 = np.random.rand(10, 1) - 0.5\n",
    "    return W1, b1, W2, b2\n",
    "\n",
    "#Define Activation function\n",
    "def ReLU(Z):\n",
    "    return np.maximum(Z, 0)\n",
    "\n",
    "#Define softmax function\n",
    "def softmax(Z):\n",
    "    A = np.exp(Z) / sum(np.exp(Z))\n",
    "    return A\n",
    "\n",
    "#Forward propagation\n",
    "def forward_prop(W1, b1, W2, b2, X):\n",
    "    Z1 = W1.dot(X) + b1\n",
    "    A1 = ReLU(Z1)\n",
    "    Z2 = W2.dot(A1) + b2\n",
    "    A2 = softmax(Z2)\n",
    "    return Z1, A1, Z2, A2\n",
    "    \n",
    "def one_hot(Y):\n",
    "    one_hot_Y = np.zeros((Y.size, Y.max() + 1))\n",
    "    one_hot_Y[np.arange(Y.size), Y] = 1\n",
    "    one_hot_Y = one_hot_Y.T\n",
    "    return one_hot_Y\n",
    "\n",
    "def ReLU_deriv(Z):\n",
    "    return Z > 0\n",
    "    \n",
    "#Backpropagation\n",
    "def backward_prop(Z1, A1, Z2, A2, W1, W2, X, Y):\n",
    "    one_hot_Y = one_hot(Y)\n",
    "    dZ2 = A2 - one_hot_Y\n",
    "    dW2 = 1 / m * dZ2.dot(A1.T)\n",
    "    db2 = 1 / m * np.sum(dZ2)\n",
    "    dZ1 = W2.T.dot(dZ2) * ReLU_deriv(Z1)\n",
    "    dW1 = 1 / m * dZ1.dot(X.T)\n",
    "    db1 = 1 / m * np.sum(dZ1)\n",
    "    return dW1, db1, dW2, db2\n",
    "    \n",
    "#Update Parameters\n",
    "def update_params(W1, b1, W2, b2, dW1, db1, dW2, db2, alpha):\n",
    "    W1 = W1 - alpha * dW1\n",
    "    b1 = b1 - alpha * db1    \n",
    "    W2 = W2 - alpha * dW2  \n",
    "    b2 = b2 - alpha * db2    \n",
    "    return W1, b1, W2, b2"
   ]
  },
  {
   "cell_type": "code",
   "execution_count": 11,
   "id": "4193e617",
   "metadata": {
    "execution": {
     "iopub.execute_input": "2022-10-03T12:44:51.862246Z",
     "iopub.status.busy": "2022-10-03T12:44:51.861846Z",
     "iopub.status.idle": "2022-10-03T12:44:51.871108Z",
     "shell.execute_reply": "2022-10-03T12:44:51.870052Z"
    },
    "papermill": {
     "duration": 0.018722,
     "end_time": "2022-10-03T12:44:51.873668",
     "exception": false,
     "start_time": "2022-10-03T12:44:51.854946",
     "status": "completed"
    },
    "tags": []
   },
   "outputs": [],
   "source": [
    "def get_predictions(A2):\n",
    "    return np.argmax(A2, 0)\n",
    "\n",
    "def get_accuracy(predictions, Y):\n",
    "    print(predictions, Y)\n",
    "    return np.sum(predictions == Y) / Y.size\n",
    "\n",
    "def gradient_descent(X, Y, alpha, iterations):\n",
    "    W1, b1, W2, b2 = init_params()\n",
    "    for i in range(iterations):\n",
    "        Z1, A1, Z2, A2 = forward_prop(W1, b1, W2, b2, X)\n",
    "        dW1, db1, dW2, db2 = backward_prop(Z1, A1, Z2, A2, W1, W2, X, Y)\n",
    "        W1, b1, W2, b2 = update_params(W1, b1, W2, b2, dW1, db1, dW2, db2, alpha)\n",
    "        if i % 10 == 0:\n",
    "            print(\"Iteration: \", i)\n",
    "            predictions = get_predictions(A2)\n",
    "            print(get_accuracy(predictions, Y))\n",
    "    return W1, b1, W2, b2"
   ]
  },
  {
   "cell_type": "code",
   "execution_count": 12,
   "id": "9a60805f",
   "metadata": {
    "execution": {
     "iopub.execute_input": "2022-10-03T12:44:51.886800Z",
     "iopub.status.busy": "2022-10-03T12:44:51.886388Z",
     "iopub.status.idle": "2022-10-03T12:46:07.036275Z",
     "shell.execute_reply": "2022-10-03T12:46:07.034635Z"
    },
    "papermill": {
     "duration": 75.16708,
     "end_time": "2022-10-03T12:46:07.046479",
     "exception": false,
     "start_time": "2022-10-03T12:44:51.879399",
     "status": "completed"
    },
    "tags": []
   },
   "outputs": [
    {
     "name": "stdout",
     "output_type": "stream",
     "text": [
      "Iteration:  0\n",
      "[3 0 0 ... 0 2 7] [8 9 5 ... 2 7 5]\n",
      "0.07865853658536585\n",
      "Iteration:  10\n",
      "[3 5 0 ... 0 2 0] [8 9 5 ... 2 7 5]\n",
      "0.1183170731707317\n",
      "Iteration:  20\n",
      "[3 3 0 ... 0 2 0] [8 9 5 ... 2 7 5]\n",
      "0.157\n",
      "Iteration:  30\n",
      "[3 3 0 ... 2 3 0] [8 9 5 ... 2 7 5]\n",
      "0.18892682926829268\n",
      "Iteration:  40\n",
      "[3 3 0 ... 2 3 0] [8 9 5 ... 2 7 5]\n",
      "0.21026829268292682\n",
      "Iteration:  50\n",
      "[3 3 0 ... 2 3 0] [8 9 5 ... 2 7 5]\n",
      "0.22795121951219513\n",
      "Iteration:  60\n",
      "[3 3 0 ... 2 3 0] [8 9 5 ... 2 7 5]\n",
      "0.24673170731707317\n",
      "Iteration:  70\n",
      "[3 3 0 ... 2 3 0] [8 9 5 ... 2 7 5]\n",
      "0.25790243902439025\n",
      "Iteration:  80\n",
      "[3 3 0 ... 2 3 0] [8 9 5 ... 2 7 5]\n",
      "0.2671707317073171\n",
      "Iteration:  90\n",
      "[3 3 0 ... 2 3 0] [8 9 5 ... 2 7 5]\n",
      "0.2845609756097561\n",
      "Iteration:  100\n",
      "[3 3 0 ... 2 3 0] [8 9 5 ... 2 7 5]\n",
      "0.3148048780487805\n",
      "Iteration:  110\n",
      "[2 3 0 ... 2 3 0] [8 9 5 ... 2 7 5]\n",
      "0.3523170731707317\n",
      "Iteration:  120\n",
      "[2 3 0 ... 2 5 7] [8 9 5 ... 2 7 5]\n",
      "0.39570731707317075\n",
      "Iteration:  130\n",
      "[2 7 0 ... 2 7 7] [8 9 5 ... 2 7 5]\n",
      "0.43290243902439024\n",
      "Iteration:  140\n",
      "[8 7 0 ... 2 7 7] [8 9 5 ... 2 7 5]\n",
      "0.5035121951219512\n",
      "Iteration:  150\n",
      "[8 7 0 ... 2 7 7] [8 9 5 ... 2 7 5]\n",
      "0.5566585365853659\n",
      "Iteration:  160\n",
      "[8 7 0 ... 2 7 7] [8 9 5 ... 2 7 5]\n",
      "0.5882682926829268\n",
      "Iteration:  170\n",
      "[8 7 8 ... 2 7 7] [8 9 5 ... 2 7 5]\n",
      "0.6136341463414634\n",
      "Iteration:  180\n",
      "[8 9 8 ... 2 7 7] [8 9 5 ... 2 7 5]\n",
      "0.6344634146341463\n",
      "Iteration:  190\n",
      "[8 9 8 ... 2 7 7] [8 9 5 ... 2 7 5]\n",
      "0.6514878048780488\n",
      "Iteration:  200\n",
      "[8 9 8 ... 2 7 0] [8 9 5 ... 2 7 5]\n",
      "0.6667317073170732\n",
      "Iteration:  210\n",
      "[8 9 8 ... 2 7 0] [8 9 5 ... 2 7 5]\n",
      "0.6811219512195122\n",
      "Iteration:  220\n",
      "[8 9 8 ... 2 7 5] [8 9 5 ... 2 7 5]\n",
      "0.6936829268292682\n",
      "Iteration:  230\n",
      "[8 9 8 ... 2 7 5] [8 9 5 ... 2 7 5]\n",
      "0.7046829268292683\n",
      "Iteration:  240\n",
      "[8 9 8 ... 2 7 5] [8 9 5 ... 2 7 5]\n",
      "0.7148536585365853\n",
      "Iteration:  250\n",
      "[8 9 5 ... 2 7 5] [8 9 5 ... 2 7 5]\n",
      "0.7240487804878049\n",
      "Iteration:  260\n",
      "[8 9 5 ... 2 7 5] [8 9 5 ... 2 7 5]\n",
      "0.7330243902439024\n",
      "Iteration:  270\n",
      "[8 9 5 ... 2 7 5] [8 9 5 ... 2 7 5]\n",
      "0.740390243902439\n",
      "Iteration:  280\n",
      "[8 9 5 ... 2 7 5] [8 9 5 ... 2 7 5]\n",
      "0.747390243902439\n",
      "Iteration:  290\n",
      "[8 9 5 ... 2 7 5] [8 9 5 ... 2 7 5]\n",
      "0.7539756097560976\n",
      "Iteration:  300\n",
      "[8 9 5 ... 2 7 5] [8 9 5 ... 2 7 5]\n",
      "0.7590731707317073\n",
      "Iteration:  310\n",
      "[8 9 5 ... 2 7 5] [8 9 5 ... 2 7 5]\n",
      "0.7645121951219512\n",
      "Iteration:  320\n",
      "[8 9 5 ... 2 7 5] [8 9 5 ... 2 7 5]\n",
      "0.7697560975609756\n",
      "Iteration:  330\n",
      "[8 9 5 ... 2 7 5] [8 9 5 ... 2 7 5]\n",
      "0.7743414634146342\n",
      "Iteration:  340\n",
      "[8 9 5 ... 2 7 5] [8 9 5 ... 2 7 5]\n",
      "0.7789756097560976\n",
      "Iteration:  350\n",
      "[8 9 5 ... 2 7 5] [8 9 5 ... 2 7 5]\n",
      "0.7835365853658537\n",
      "Iteration:  360\n",
      "[8 9 5 ... 2 7 5] [8 9 5 ... 2 7 5]\n",
      "0.7874390243902439\n",
      "Iteration:  370\n",
      "[8 9 5 ... 2 7 5] [8 9 5 ... 2 7 5]\n",
      "0.7910243902439025\n",
      "Iteration:  380\n",
      "[8 9 5 ... 2 7 5] [8 9 5 ... 2 7 5]\n",
      "0.7945609756097561\n",
      "Iteration:  390\n",
      "[8 9 5 ... 2 7 5] [8 9 5 ... 2 7 5]\n",
      "0.7977804878048781\n",
      "Iteration:  400\n",
      "[8 9 5 ... 2 7 5] [8 9 5 ... 2 7 5]\n",
      "0.8010243902439025\n",
      "Iteration:  410\n",
      "[8 9 5 ... 2 7 5] [8 9 5 ... 2 7 5]\n",
      "0.8038780487804879\n",
      "Iteration:  420\n",
      "[8 9 5 ... 2 7 5] [8 9 5 ... 2 7 5]\n",
      "0.8073170731707318\n",
      "Iteration:  430\n",
      "[8 9 5 ... 2 7 5] [8 9 5 ... 2 7 5]\n",
      "0.8103902439024391\n",
      "Iteration:  440\n",
      "[8 9 5 ... 2 7 5] [8 9 5 ... 2 7 5]\n",
      "0.8138780487804878\n",
      "Iteration:  450\n",
      "[8 9 5 ... 2 7 5] [8 9 5 ... 2 7 5]\n",
      "0.8163170731707317\n",
      "Iteration:  460\n",
      "[8 9 5 ... 2 7 5] [8 9 5 ... 2 7 5]\n",
      "0.818560975609756\n",
      "Iteration:  470\n",
      "[8 9 5 ... 2 7 5] [8 9 5 ... 2 7 5]\n",
      "0.8212195121951219\n",
      "Iteration:  480\n",
      "[8 9 5 ... 2 7 5] [8 9 5 ... 2 7 5]\n",
      "0.8234634146341463\n",
      "Iteration:  490\n",
      "[8 9 5 ... 2 7 5] [8 9 5 ... 2 7 5]\n",
      "0.8256829268292682\n"
     ]
    }
   ],
   "source": [
    "W1, b1, W2, b2 = gradient_descent(X_train, Y_train, 0.10, 500)"
   ]
  },
  {
   "cell_type": "code",
   "execution_count": 13,
   "id": "93393909",
   "metadata": {
    "execution": {
     "iopub.execute_input": "2022-10-03T12:46:07.119818Z",
     "iopub.status.busy": "2022-10-03T12:46:07.118832Z",
     "iopub.status.idle": "2022-10-03T12:46:07.156810Z",
     "shell.execute_reply": "2022-10-03T12:46:07.155316Z"
    },
    "papermill": {
     "duration": 0.072369,
     "end_time": "2022-10-03T12:46:07.159872",
     "exception": false,
     "start_time": "2022-10-03T12:46:07.087503",
     "status": "completed"
    },
    "tags": []
   },
   "outputs": [],
   "source": [
    "def make_predictions(X, W1, b1, W2, b2):\n",
    "    _, _, _, A2 = forward_prop(W1, b1, W2, b2, X)\n",
    "    predictions = get_predictions(A2)\n",
    "    return predictions\n",
    "\n",
    "def test_prediction(index, W1, b1, W2, b2):\n",
    "    current_image = X_train[:, index, None]\n",
    "    prediction = make_predictions(X_train[:, index, None], W1, b1, W2, b2)\n",
    "    label = Y_train[index]\n",
    "    print(\"Prediction: \", prediction)\n",
    "    print(\"Label: \", label)\n",
    "    \n",
    "    current_image = current_image.reshape((28, 28)) * 255\n",
    "    plt.gray()\n",
    "    plt.imshow(current_image, interpolation='nearest')\n",
    "    plt.show()"
   ]
  },
  {
   "cell_type": "code",
   "execution_count": 14,
   "id": "10922c6f",
   "metadata": {
    "execution": {
     "iopub.execute_input": "2022-10-03T12:46:07.184079Z",
     "iopub.status.busy": "2022-10-03T12:46:07.183340Z",
     "iopub.status.idle": "2022-10-03T12:46:07.950629Z",
     "shell.execute_reply": "2022-10-03T12:46:07.949456Z"
    },
    "papermill": {
     "duration": 0.783647,
     "end_time": "2022-10-03T12:46:07.953084",
     "exception": false,
     "start_time": "2022-10-03T12:46:07.169437",
     "status": "completed"
    },
    "tags": []
   },
   "outputs": [
    {
     "name": "stdout",
     "output_type": "stream",
     "text": [
      "Prediction:  [8]\n",
      "Label:  8\n"
     ]
    },
    {
     "data": {
      "image/png": "[encoded data removed]",
      "text/plain": [
       "<Figure size 432x288 with 1 Axes>"
      ]
     },
     "metadata": {
      "needs_background": "light"
     },
     "output_type": "display_data"
    },
    {
     "name": "stdout",
     "output_type": "stream",
     "text": [
      "Prediction:  [9]\n",
      "Label:  9\n"
     ]
    },
    {
     "data": {
      "image/png": "[encoded data removed]",
      "text/plain": [
       "<Figure size 432x288 with 1 Axes>"
      ]
     },
     "metadata": {
      "needs_background": "light"
     },
     "output_type": "display_data"
    },
    {
     "name": "stdout",
     "output_type": "stream",
     "text": [
      "Prediction:  [5]\n",
      "Label:  5\n"
     ]
    },
    {
     "data": {
      "image/png": "[encoded data removed]",
      "text/plain": [
       "<Figure size 432x288 with 1 Axes>"
      ]
     },
     "metadata": {
      "needs_background": "light"
     },
     "output_type": "display_data"
    },
    {
     "name": "stdout",
     "output_type": "stream",
     "text": [
      "Prediction:  [8]\n",
      "Label:  8\n"
     ]
    },
    {
     "data": {
      "image/png": "[encoded data removed]",
      "text/plain": [
       "<Figure size 432x288 with 1 Axes>"
      ]
     },
     "metadata": {
      "needs_background": "light"
     },
     "output_type": "display_data"
    }
   ],
   "source": [
    "test_prediction(0, W1, b1, W2, b2)\n",
    "test_prediction(1, W1, b1, W2, b2)\n",
    "test_prediction(2, W1, b1, W2, b2)\n",
    "test_prediction(3, W1, b1, W2, b2)"
   ]
  },
  {
   "cell_type": "code",
   "execution_count": 15,
   "id": "e3c8c053",
   "metadata": {
    "execution": {
     "iopub.execute_input": "2022-10-03T12:46:07.974380Z",
     "iopub.status.busy": "2022-10-03T12:46:07.973914Z",
     "iopub.status.idle": "2022-10-03T12:46:08.015329Z",
     "shell.execute_reply": "2022-10-03T12:46:08.013602Z"
    },
    "papermill": {
     "duration": 0.060987,
     "end_time": "2022-10-03T12:46:08.023951",
     "exception": false,
     "start_time": "2022-10-03T12:46:07.962964",
     "status": "completed"
    },
    "tags": []
   },
   "outputs": [
    {
     "name": "stdout",
     "output_type": "stream",
     "text": [
      "[9 1 8 9 0 4 2 1 1 2 3 3 5 7 2 4 8 7 5 1 2 5 1 9 8 6 1 5 1 9 6 4 3 8 2 4 0\n",
      " 9 8 5 7 1 0 1 5 1 2 6 2 5 5 7 1 3 3 7 7 9 1 1 7 2 7 1 2 8 0 9 3 7 4 7 9 0\n",
      " 4 4 4 1 4 5 1 5 7 4 1 1 9 3 3 9 4 0 8 6 3 8 3 6 9 6 0 8 4 3 2 0 8 9 5 7 6\n",
      " 9 7 4 0 5 4 9 3 2 2 0 0 3 3 6 4 9 1 1 1 2 7 0 5 5 5 1 6 3 3 4 6 9 3 3 1 5\n",
      " 3 2 7 6 9 0 4 5 3 0 6 3 9 6 9 3 0 4 0 1 3 0 6 6 1 3 1 1 9 7 0 4 4 2 6 6 8\n",
      " 9 4 0 1 5 9 6 8 6 7 0 3 4 9 2 6 1 5 8 2 7 2 8 0 3 4 4 7 3 4 6 8 0 8 0 1 3\n",
      " 9 7 1 0 0 0 2 3 6 0 6 4 7 6 2 8 8 6 8 0 1 3 7 1 9 1 3 1 9 4 1 5 6 1 8 7 6\n",
      " 3 0 2 4 0 9 2 2 4 3 8 9 6 4 4 8 5 1 4 4 3 9 7 2 4 4 3 1 8 4 5 8 1 1 8 1 9\n",
      " 9 0 8 0 9 0 9 3 1 3 8 5 6 6 9 8 8 9 9 6 0 0 5 0 1 4 1 7 1 1 1 5 2 5 2 3 0\n",
      " 6 2 3 3 4 1 6 3 8 7 4 2 3 9 0 1 2 7 9 1 4 6 7 4 1 5 5 5 4 1 2 1 1 4 7 8 3\n",
      " 7 9 4 8 2 9 7 3 4 4 8 2 5 7 7 8 2 2 6 5 5 6 0 1 4 7 4 9 2 9 8 9 1 7 1 6 3\n",
      " 8 1 7 3 8 1 6 4 5 0 0 9 2 1 0 9 3 4 8 9 4 9 0 1 3 2 7 0 1 7 7 7 1 2 1 6 9\n",
      " 3 0 9 2 4 7 9 4 0 5 0 9 9 4 6 3 1 8 5 4 1 4 7 0 3 2 4 0 1 9 8 6 2 0 0 0 6\n",
      " 0 7 3 2 3 1 8 6 7 0 3 3 2 1 0 6 1 8 6 9 4 1 2 9 5 5 7 1 7 4 1 8 9 2 2 8 3\n",
      " 9 6 8 4 1 1 1 3 4 2 3 2 1 2 9 4 3 2 5 9 9 6 4 6 1 4 3 7 0 1 3 9 8 5 3 6 6\n",
      " 4 0 8 6 8 3 0 5 3 2 3 5 7 1 5 1 2 8 0 4 4 7 1 9 2 7 7 6 0 0 2 9 6 3 9 7 2\n",
      " 0 0 5 2 5 6 9 0 2 9 3 8 9 7 9 2 7 1 0 5 7 8 3 0 8 8 8 6 9 3 8 5 2 9 1 3 1\n",
      " 6 7 7 1 9 7 3 6 9 3 4 3 4 1 1 2 0 3 4 8 1 3 0 8 9 3 9 6 3 2 1 5 9 4 5 4 3\n",
      " 5 4 0 9 1 8 7 6 8 4 7 2 6 8 3 0 5 4 4 9 4 9 3 2 8 1 9 2 2 2 8 1 2 1 9 6 7\n",
      " 8 3 3 4 2 5 7 1 9 7 3 7 7 2 9 6 8 4 9 8 1 0 6 0 1 0 1 3 1 2 1 1 0 4 4 0 6\n",
      " 3 6 9 0 3 1 6 7 5 0 3 6 7 9 1 8 0 3 4 5 7 2 7 7 6 1 0 2 8 6 5 0 4 3 0 4 9\n",
      " 9 3 4 8 7 4 3 9 4 4 6 5 4 3 0 9 1 2 5 6 2 8 7 7 4 8 4 0 0 4 2 4 9 7 5 1 7\n",
      " 0 2 8 8 7 3 2 2 4 8 2 8 8 1 2 5 4 5 9 4 3 4 8 6 2 0 0 8 3 4 2 1 7 8 7 3 3\n",
      " 3 5 1 2 7 4 8 3 6 4 6 3 6 1 2 8 4 4 6 6 5 6 4 9 3 8 9 1 7 3 7 6 7 2 9 6 8\n",
      " 3 6 6 8 4 8 9 5 4 4 2 9 7 1 7 6 1 3 1 1 6 9 5 7 0 3 7 4 7 1 0 1 0 1 4 0 3\n",
      " 9 1 6 7 1 0 4 6 3 6 1 8 3 4 7 8 0 5 1 7 2 6 0 4 2 7 1 4 6 8 5 4 7 6 1 6 9\n",
      " 2 6 5 3 4 9 3 0 9 2 6 5 5 2 7 0 6 6 5 8 4 3 5 6 0 7 4 4 2 9 3 9 9 8 8 6 1\n",
      " 6] [7 1 8 9 0 4 7 1 8 2 3 3 5 0 2 4 8 7 5 1 7 5 1 9 8 0 5 5 1 5 6 4 3 2 2 4 0\n",
      " 9 2 5 7 1 0 1 5 1 2 6 3 0 5 7 1 3 3 7 7 7 1 1 7 2 7 2 2 8 0 9 2 3 4 7 9 0\n",
      " 4 4 4 1 4 0 1 3 7 4 1 1 9 5 3 9 4 0 5 6 3 8 0 6 9 6 0 8 4 3 2 0 8 9 8 9 6\n",
      " 9 9 4 0 5 4 9 3 1 2 0 0 3 3 6 4 9 1 1 1 2 7 0 5 0 8 6 6 3 8 9 2 4 3 3 1 5\n",
      " 3 3 7 2 9 0 4 3 3 0 6 3 9 6 9 3 0 4 0 1 1 0 6 6 1 2 1 2 9 9 0 4 9 2 6 6 8\n",
      " 4 4 5 1 5 9 5 8 6 7 5 3 4 9 2 2 1 5 8 2 7 2 8 0 3 4 4 7 3 4 6 8 0 8 0 1 3\n",
      " 9 7 8 0 0 0 2 8 6 0 6 4 7 6 2 8 8 6 5 0 1 3 7 1 7 1 3 1 4 4 1 5 6 1 7 7 2\n",
      " 3 0 2 4 8 7 2 2 2 3 8 9 5 4 4 8 5 1 4 4 2 9 7 2 4 4 3 1 8 4 5 8 1 1 8 1 9\n",
      " 9 9 8 0 9 0 7 5 1 3 5 0 6 6 9 8 8 4 9 2 0 5 5 0 1 4 1 9 1 1 1 5 1 3 2 5 0\n",
      " 5 2 3 3 9 1 6 9 7 7 4 2 3 9 0 1 4 7 9 1 4 6 7 4 1 5 5 5 4 1 6 1 1 8 7 8 3\n",
      " 7 9 4 3 2 9 7 9 4 4 9 2 5 7 7 8 2 3 6 8 8 6 0 1 4 7 4 9 6 5 8 8 4 7 1 6 3\n",
      " 8 1 7 5 4 1 6 4 5 0 0 9 2 1 0 7 3 4 8 9 4 9 0 1 3 2 7 0 1 7 7 7 1 2 1 6 9\n",
      " 3 0 9 2 4 7 9 4 0 0 0 9 9 4 6 3 1 8 5 4 1 4 7 3 3 2 4 0 1 8 1 6 8 0 0 0 6\n",
      " 0 7 3 2 3 1 5 6 7 0 5 3 2 1 0 6 1 1 6 9 4 1 3 7 9 5 7 8 7 4 5 8 2 2 2 2 3\n",
      " 4 6 8 4 1 1 1 5 4 2 2 2 1 2 9 4 3 2 0 9 9 6 4 6 1 4 5 7 0 1 3 9 8 5 3 6 6\n",
      " 4 0 8 6 8 3 5 5 3 2 3 5 7 1 5 1 6 8 0 4 4 3 1 4 2 7 9 6 0 0 2 9 6 8 9 7 2\n",
      " 0 0 3 2 5 6 7 0 2 8 3 8 9 7 9 2 7 1 0 5 2 1 2 0 8 8 8 6 4 3 8 5 2 9 1 3 1\n",
      " 6 7 7 1 3 7 3 6 9 3 4 3 4 1 1 2 0 3 5 8 2 3 6 3 9 3 9 6 3 2 1 5 4 9 0 4 3\n",
      " 5 4 0 4 1 8 7 6 5 4 7 2 6 8 3 0 5 9 4 9 4 9 3 2 8 1 9 2 2 2 8 1 2 2 9 6 7\n",
      " 8 3 3 7 2 5 7 1 9 7 0 7 7 2 9 6 8 7 8 8 1 0 6 0 1 6 8 3 1 2 1 1 0 2 4 0 4\n",
      " 3 6 4 0 3 1 6 7 5 5 3 8 7 9 1 8 0 9 9 5 7 2 7 2 6 1 0 2 2 6 8 0 6 3 3 4 9\n",
      " 9 3 9 8 7 4 3 9 4 6 6 5 4 3 0 9 1 2 5 6 2 8 7 7 4 4 4 0 0 4 2 6 9 7 0 1 7\n",
      " 0 1 3 8 7 3 1 2 4 8 2 8 8 1 2 5 4 9 4 9 3 4 8 6 7 0 0 8 3 4 2 1 3 8 7 3 3\n",
      " 3 5 7 2 7 4 8 3 6 4 5 3 6 1 2 8 7 4 6 6 5 6 4 9 3 8 9 1 7 3 9 6 9 2 9 6 8\n",
      " 3 6 6 8 9 5 9 3 4 4 2 9 7 1 7 6 1 3 1 1 6 9 5 7 0 8 7 4 7 1 0 2 0 1 4 0 5\n",
      " 9 1 6 7 1 0 4 6 3 6 1 1 2 4 7 8 0 5 1 7 7 6 0 4 2 7 1 4 6 8 8 9 7 6 1 6 9\n",
      " 2 6 5 3 4 9 3 7 4 3 6 5 8 2 7 0 6 6 5 8 4 3 5 6 0 7 4 4 2 9 3 9 9 8 8 6 1\n",
      " 6]\n"
     ]
    },
    {
     "data": {
      "text/plain": [
       "0.815"
      ]
     },
     "execution_count": 15,
     "metadata": {},
     "output_type": "execute_result"
    }
   ],
   "source": [
    "dev_predictions = make_predictions(X_dev, W1, b1, W2, b2)\n",
    "get_accuracy(dev_predictions, Y_dev)"
   ]
  }
 ],
 "metadata": {
  "kernelspec": {
   "display_name": "Python 3",
   "language": "python",
   "name": "python3"
  },
  "language_info": {
   "codemirror_mode": {
    "name": "ipython",
    "version": 3
   },
   "file_extension": ".py",
   "mimetype": "text/x-python",
   "name": "python",
   "nbconvert_exporter": "python",
   "pygments_lexer": "ipython3",
   "version": "3.7.12"
  },
  "papermill": {
   "default_parameters": {},
   "duration": 90.752569,
   "end_time": "2022-10-03T12:46:08.785223",
   "environment_variables": {},
   "exception": null,
   "input_path": "__notebook__.ipynb",
   "output_path": "__notebook__.ipynb",
   "parameters": {},
   "start_time": "2022-10-03T12:44:38.032654",
   "version": "2.3.4"
  }
 },
 "nbformat": 4,
 "nbformat_minor": 5
}
